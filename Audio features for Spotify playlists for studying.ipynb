{
 "cells": [
  {
   "cell_type": "markdown",
   "metadata": {},
   "source": [
    "## Анализ характеристик песен из плейлистов Spotify для обучения\n",
    "## (Analysis of the song features for the Spotify playlist for studying)\n",
    "\n",
    "Цель проекта: изучение характеристик песен из плейлистов для обучения\n",
    "\n",
    "Задачи:\n",
    "\n",
    "1) Создание базы данных с треками из специализированных плейлистов Spotify, которую можно будет в дальнейшем ипользовать для рекомендаций пользователям\n",
    "\n",
    "2) Изучение основных характеристик песен из плейлистов\n",
    "\n",
    "3) Кластеризация песен из плейлистов на основании характеристик. Есть ли различия между песнями в плейлистах для обучения?\n",
    "\n",
    "4) Сравнение характеристик песен из плейлистов для учебы и песен из общей базы Spotify "
   ]
  },
  {
   "cell_type": "markdown",
   "metadata": {},
   "source": [
    "## Настройка подключения к Spotify API"
   ]
  },
  {
   "cell_type": "markdown",
   "metadata": {},
   "source": [
    "Для использования Spotify API нужно зарегистрировать приложение на сайте spotify и получить токен. Буду работать с библиотекой spotipy, помогающей отправлять запросы к API. Подробнее про API можно почитать в документации: https://developer.spotify.com/discover/"
   ]
  },
  {
   "cell_type": "code",
   "execution_count": null,
   "metadata": {
    "scrolled": true
   },
   "outputs": [],
   "source": [
    "!pip install spotipy"
   ]
  },
  {
   "cell_type": "code",
   "execution_count": null,
   "metadata": {},
   "outputs": [],
   "source": [
    "import spotipy\n",
    "from spotipy.oauth2 import SpotifyClientCredentials \n",
    "\n",
    "cid = #user_id\n",
    "secret = #secret_id\n",
    "\n",
    "client_credentials_manager = SpotifyClientCredentials(client_id=cid, client_secret=secret)\n",
    "sp = spotipy.Spotify(client_credentials_manager=client_credentials_manager) "
   ]
  },
  {
   "cell_type": "markdown",
   "metadata": {},
   "source": [
    "## Получение информацию о песнях для трех плейлистов для учебы\n",
    "\n",
    "Были выбраны плейлисты: \"Погружение в учебу\", \"Instrumental Study\", \"Intense Studuing\""
   ]
  },
  {
   "cell_type": "code",
   "execution_count": null,
   "metadata": {},
   "outputs": [],
   "source": [
    "playlist_ids=['37i9dQZF1DX8NTLI2TtZa6','37i9dQZF1DX9sIqqvKsjG8','37i9dQZF1DWZeKCadgRdKQ','0vvXsWCC9xrXsKd4FyS8kM']\n",
    "tracklist=[]\n",
    "len(tracklist)"
   ]
  },
  {
   "cell_type": "code",
   "execution_count": null,
   "metadata": {},
   "outputs": [],
   "source": [
    "results=sp.playlist_items(playlist_ids[3])\n",
    "len(results['items'])"
   ]
  },
  {
   "cell_type": "code",
   "execution_count": null,
   "metadata": {},
   "outputs": [],
   "source": [
    "for playlist in playlist_ids:\n",
    "    print(playlist)"
   ]
  },
  {
   "cell_type": "markdown",
   "metadata": {},
   "source": [
    "Как можно увидеть, API выдает в одном результате максимум 100 элементов. Поэтому нужно итеративно с каждым разом добавлять по 100 треков для каждого плейлиста. Почему-то у меня не вышло одним лупом спарсить информацию о песнях сразу для трех плейлистов, поэтому буду делать по очереди."
   ]
  },
  {
   "cell_type": "code",
   "execution_count": null,
   "metadata": {},
   "outputs": [],
   "source": [
    "#Выгружаю информацию для первого плейлиста\n",
    "tracklist=[]\n",
    "i=0\n",
    "while True:\n",
    "    if len(results['items']) != 0:\n",
    "        results=sp.playlist_items(playlist_ids[0], offset=i)\n",
    "        for item in results['items']:\n",
    "            tracklist.append(item['track']['id'])\n",
    "        i+=100\n",
    "    else:\n",
    "        break\n",
    "len(tracklist)"
   ]
  },
  {
   "cell_type": "code",
   "execution_count": null,
   "metadata": {},
   "outputs": [],
   "source": [
    "results=sp.playlist_items(playlist_ids[3])\n",
    "results['items'][0]['track']['name']"
   ]
  },
  {
   "cell_type": "code",
   "execution_count": null,
   "metadata": {},
   "outputs": [],
   "source": [
    "#Выгружаю информацию для второго плейлиста, добавляю в общий список\n",
    "i=0\n",
    "while True:\n",
    "    if len(results['items']) != 0:\n",
    "        results=sp.playlist_items(playlist_ids[1], offset=i)\n",
    "        #track_name = results['items'][0]['track']['name']\n",
    "        #artist_name = results['items'][0]['track']['artists'][0]['name']\n",
    "        for item in results['items']:\n",
    "            tracklist.append(item['track']['id'])\n",
    "        i+=100\n",
    "    else:\n",
    "        break\n",
    "len(tracklist)"
   ]
  },
  {
   "cell_type": "code",
   "execution_count": null,
   "metadata": {},
   "outputs": [],
   "source": [
    "results=sp.playlist_items(playlist_ids[2])\n",
    "results['items'][0]['track']['name']"
   ]
  },
  {
   "cell_type": "code",
   "execution_count": null,
   "metadata": {},
   "outputs": [],
   "source": [
    "#Выгружаю информацию для третьего плейлиста, добавляю в общий список\n",
    "i=0\n",
    "while True:\n",
    "    if len(results['items']) != 0:\n",
    "        results=sp.playlist_items(playlist_ids[2], offset=i)\n",
    "        #track_name = results['items'][0]['track']['name']\n",
    "        #artist_name = results['items'][0]['track']['artists'][0]['name']\n",
    "        for item in results['items']:\n",
    "            tracklist.append(item['track']['id'])\n",
    "        i+=100\n",
    "    else:\n",
    "        break\n",
    "len(tracklist)"
   ]
  },
  {
   "cell_type": "code",
   "execution_count": null,
   "metadata": {},
   "outputs": [],
   "source": [
    "results=sp.playlist_items(playlist_ids[3])\n",
    "results['items'][0]['track']['name']"
   ]
  },
  {
   "cell_type": "code",
   "execution_count": null,
   "metadata": {},
   "outputs": [],
   "source": [
    "#Выгружаю информацию для четвертого плейлиста, добавляю в общий список\n",
    "i=0\n",
    "while True:\n",
    "    if len(results['items']) != 0:\n",
    "        results=sp.playlist_items(playlist_ids[3], offset=i)\n",
    "        #track_name = results['items'][0]['track']['name']\n",
    "        #artist_name = results['items'][0]['track']['artists'][0]['name']\n",
    "        for item in results['items']:\n",
    "            tracklist.append(item['track']['id'])\n",
    "        i+=100\n",
    "    else:\n",
    "        break\n",
    "len(tracklist)"
   ]
  },
  {
   "cell_type": "code",
   "execution_count": null,
   "metadata": {},
   "outputs": [],
   "source": [
    "sp.audio_features(tracklist[1012])"
   ]
  },
  {
   "cell_type": "code",
   "execution_count": null,
   "metadata": {},
   "outputs": [],
   "source": [
    "tracklist.pop(1010)"
   ]
  },
  {
   "cell_type": "markdown",
   "metadata": {},
   "source": [
    "## Создание базы данных с информацией о песнях из плейлистов для учебы"
   ]
  },
  {
   "cell_type": "code",
   "execution_count": null,
   "metadata": {},
   "outputs": [],
   "source": [
    "#В связи с ограничением на максимум 100 объектов в одном запросе, нужно изощряться.\n",
    "#Создаю цикл специально для полученного числа треков.\n",
    "\n",
    "import pandas as pd\n",
    "\n",
    "for i in range(0,11):\n",
    "    if i == 0:\n",
    "        df=pd.DataFrame(sp.audio_features(tracks=tracklist[:100]))\n",
    "    elif i in range (1,10):\n",
    "        num=i*100\n",
    "        df1=pd.DataFrame(sp.audio_features(tracks=tracklist[num:num+100]))\n",
    "        df=df.append(df1)\n",
    "df = df.reset_index(drop=True) #обновляю индексы, т.к. они сбились при объединении баз данных\n",
    "len(df)"
   ]
  },
  {
   "cell_type": "code",
   "execution_count": null,
   "metadata": {},
   "outputs": [],
   "source": [
    "df.head()"
   ]
  },
  {
   "cell_type": "markdown",
   "metadata": {},
   "source": [
    "Оставляю только характеристики треков. Темп и тональность не включаю, т.к. проблематично анализировать эти значения (нужно переводить в другие категории + более обширный музыкальный бэкграунд, чтобы понять, о чем это)"
   ]
  },
  {
   "cell_type": "code",
   "execution_count": null,
   "metadata": {},
   "outputs": [],
   "source": [
    "df=df[['id','acousticness','danceability','duration_ms','energy','instrumentalness','liveness','loudness','speechiness','valence']]\n",
    "df.describe()"
   ]
  },
  {
   "cell_type": "markdown",
   "metadata": {},
   "source": [
    "## Анализ характеристик песен"
   ]
  },
  {
   "cell_type": "code",
   "execution_count": null,
   "metadata": {},
   "outputs": [],
   "source": [
    "import matplotlib.pyplot as plt\n",
    "import seaborn as sns\n",
    "\n",
    "plt.figure(figsize=(15, 10))\n",
    "sns.heatmap(df[1:].corr(), annot=True)"
   ]
  },
  {
   "cell_type": "markdown",
   "metadata": {},
   "source": [
    "Самая высокая корреляция наблюдается между энергичностю и громкостью: 0,77. Также наблюдаются высокие по модулю, но отрицательные корреляции между акустичностью с одной стороны, и энергичностью и громкостью с другой (-0,6 и -0,56 соответственно).Также достаточно высокие значения корреляции для танцевальности и громкости (0,51), а также для танцевальности и энергичности (0,44). Не очень высокой, но все же заметной корреляцией обладают акустичность и инструментальность (0,3). Для остальных пар характеристик корреляции не так высоки - ниже 0,3 по модулю."
   ]
  },
  {
   "cell_type": "code",
   "execution_count": null,
   "metadata": {},
   "outputs": [],
   "source": [
    "from sklearn.cluster import KMeans\n",
    "from sklearn.preprocessing import StandardScaler\n",
    "from sklearn.pipeline import Pipeline\n",
    "\n",
    "X=df[1:]\n",
    "cluster_pipeline = Pipeline([('scaler', StandardScaler()), ('kmeans', KMeans(n_clusters=3))])\n",
    "cluster_pipeline.fit(X)\n",
    "df['cluster'] = cluster_pipeline.predict(X)"
   ]
  },
  {
   "cell_type": "code",
   "execution_count": null,
   "metadata": {},
   "outputs": [],
   "source": [
    "from sklearn.manifold import TSNE\n",
    "import plotly.express as px\n",
    "\n",
    "tsne_pipeline = Pipeline([('scaler', StandardScaler()), ('tsne', TSNE(n_components=2, verbose=2))])\n",
    "df_embedding = tsne_pipeline.fit_transform(X)\n",
    "projection = pd.DataFrame(columns=['x', 'y'], data=df_embedding)\n",
    "projection['energy'] = df['energy']\n",
    "projection['loudness'] = df['loudness']\n",
    "projection['cluster'] = df['cluster']\n",
    "\n",
    "fig = px.scatter(\n",
    "    projection, x='x', y='y', color='cluster', hover_data=['energy','loudness'])\n",
    "fig.show()"
   ]
  },
  {
   "cell_type": "code",
   "execution_count": null,
   "metadata": {},
   "outputs": [],
   "source": [
    "for i in range (0,3):\n",
    "    print(\"Cluster \"+str(i)+\": \"+str(len(df[df['cluster']==i])))"
   ]
  },
  {
   "cell_type": "code",
   "execution_count": null,
   "metadata": {},
   "outputs": [],
   "source": [
    "df_mean=df.groupby('cluster').mean()\n",
    "df_mean.to_excel('means.xlsx')"
   ]
  },
  {
   "cell_type": "code",
   "execution_count": null,
   "metadata": {},
   "outputs": [],
   "source": [
    "from scipy import stats\n",
    "ttest_ind=stats.ttest_ind\n",
    "d1 = df[df['cluster']==0].duration_ms\n",
    "d2 = df[df['cluster']==2].duration_ms\n",
    "print('Акустичность песен для кластера 1: ',d1.mean())\n",
    "print('Акустичность песен для кластера 2: ',d2.mean())\n",
    "ttest_ind(d1,d2)"
   ]
  },
  {
   "cell_type": "code",
   "execution_count": null,
   "metadata": {},
   "outputs": [],
   "source": [
    "df[df['cluster']==1]['danceability']"
   ]
  },
  {
   "cell_type": "code",
   "execution_count": null,
   "metadata": {},
   "outputs": [],
   "source": [
    "import statsmodels.api as sm\n",
    "from statsmodels.formula.api import ols\n",
    "\n",
    "model = ols('energy ~ C(cluster)', data=df).fit()\n",
    "anova_table = sm.stats.anova_lm(model, typ=2)\n",
    "anova_table\n",
    "# output (ANOVA F and p value)"
   ]
  },
  {
   "cell_type": "code",
   "execution_count": null,
   "metadata": {},
   "outputs": [],
   "source": [
    "model = ols('danceability ~ C(cluster)', data=df).fit()\n",
    "anova_table = sm.stats.anova_lm(model, typ=2)\n",
    "anova_table"
   ]
  },
  {
   "cell_type": "code",
   "execution_count": null,
   "metadata": {},
   "outputs": [],
   "source": [
    "model = ols('acousticness ~ C(cluster)', data=df).fit()\n",
    "anova_table = sm.stats.anova_lm(model, typ=2)\n",
    "anova_table"
   ]
  },
  {
   "cell_type": "code",
   "execution_count": null,
   "metadata": {},
   "outputs": [],
   "source": [
    "model = ols('duration_ms ~ C(cluster)', data=df).fit()\n",
    "anova_table = sm.stats.anova_lm(model, typ=2)\n",
    "anova_table"
   ]
  },
  {
   "cell_type": "code",
   "execution_count": null,
   "metadata": {},
   "outputs": [],
   "source": [
    "model = ols('instrumentalness ~ C(cluster)', data=df).fit()\n",
    "anova_table = sm.stats.anova_lm(model, typ=2)\n",
    "anova_table"
   ]
  },
  {
   "cell_type": "code",
   "execution_count": null,
   "metadata": {},
   "outputs": [],
   "source": [
    "model = ols('liveness ~ C(cluster)', data=df).fit()\n",
    "anova_table = sm.stats.anova_lm(model, typ=2)\n",
    "anova_table"
   ]
  },
  {
   "cell_type": "code",
   "execution_count": null,
   "metadata": {},
   "outputs": [],
   "source": [
    "model = ols('loudness ~ C(cluster)', data=df).fit()\n",
    "anova_table = sm.stats.anova_lm(model, typ=2)\n",
    "anova_table"
   ]
  },
  {
   "cell_type": "code",
   "execution_count": null,
   "metadata": {},
   "outputs": [],
   "source": [
    "model = ols('speechiness ~ C(cluster)', data=df).fit()\n",
    "anova_table = sm.stats.anova_lm(model, typ=2)\n",
    "anova_table"
   ]
  },
  {
   "cell_type": "code",
   "execution_count": null,
   "metadata": {},
   "outputs": [],
   "source": [
    "model = ols('valence ~ C(cluster)', data=df).fit()\n",
    "anova_table = sm.stats.anova_lm(model, typ=2)\n",
    "anova_table"
   ]
  },
  {
   "cell_type": "markdown",
   "metadata": {},
   "source": [
    "## Сравнение с общей базой треков"
   ]
  },
  {
   "cell_type": "code",
   "execution_count": null,
   "metadata": {},
   "outputs": [],
   "source": [
    "import pandas as pd\n",
    "\n",
    "data = pd.read_csv('data.csv')\n",
    "len(data)"
   ]
  },
  {
   "cell_type": "code",
   "execution_count": null,
   "metadata": {},
   "outputs": [],
   "source": [
    "data"
   ]
  },
  {
   "cell_type": "code",
   "execution_count": null,
   "metadata": {},
   "outputs": [],
   "source": [
    "data.describe()"
   ]
  },
  {
   "cell_type": "code",
   "execution_count": null,
   "metadata": {},
   "outputs": [],
   "source": [
    "df.describe()"
   ]
  },
  {
   "cell_type": "markdown",
   "metadata": {},
   "source": [
    "C первого взгляда кажется, что для всех характеристик песен значения из песен в плейлисте сильно отличаются. Посмотрим конкретнее по каждой характеристике."
   ]
  },
  {
   "cell_type": "code",
   "execution_count": null,
   "metadata": {},
   "outputs": [],
   "source": [
    "from scipy import stats\n",
    "ttest_ind=stats.ttest_ind\n",
    "d1 = df.acousticness\n",
    "d2 = data.acousticness\n",
    "print('Акустичность песен из плейслистов: ',d1.mean())\n",
    "print('Акустичность песен из общей базы: ',d2.mean())\n",
    "ttest_ind(d1,d2)"
   ]
  },
  {
   "cell_type": "code",
   "execution_count": null,
   "metadata": {},
   "outputs": [],
   "source": [
    "d1 = df.danceability\n",
    "d2 = data.danceability\n",
    "print('Танцевальность песен из плейслистов: ',d1.mean())\n",
    "print('Танцевальность песен из общей базы: ',d2.mean())\n",
    "ttest_ind(d1,d2)"
   ]
  },
  {
   "cell_type": "code",
   "execution_count": null,
   "metadata": {},
   "outputs": [],
   "source": [
    "d1 = df.duration_ms\n",
    "d2 = data.duration_ms\n",
    "print('Длительность песен из плейслистов: ',d1.mean())\n",
    "print('Длительность песен из общей базы: ',d2.mean())\n",
    "ttest_ind(d1,d2)"
   ]
  },
  {
   "cell_type": "code",
   "execution_count": null,
   "metadata": {},
   "outputs": [],
   "source": [
    "d1 = df.energy\n",
    "d2 = data.energy\n",
    "print('Энергичность песен из плейслистов: ',d1.mean())\n",
    "print('Энергичность песен из общей базы: ',d2.mean())\n",
    "ttest_ind(d1,d2)"
   ]
  },
  {
   "cell_type": "code",
   "execution_count": null,
   "metadata": {},
   "outputs": [],
   "source": [
    "d1 = df.instrumentalness\n",
    "d2 = data.instrumentalness\n",
    "print('Инструментальность песен из плейслистов: ',d1.mean())\n",
    "print('Инструментальность песен из общей базы: ',d2.mean())\n",
    "ttest_ind(d1,d2)"
   ]
  },
  {
   "cell_type": "code",
   "execution_count": null,
   "metadata": {},
   "outputs": [],
   "source": [
    "d1 = df.liveness\n",
    "d2 = data.liveness\n",
    "print('Живое исполнение песен из плейслистов: ',d1.mean())\n",
    "print('Живое исполнение песен из общей базы: ',d2.mean())\n",
    "ttest_ind(d1,d2)"
   ]
  },
  {
   "cell_type": "code",
   "execution_count": null,
   "metadata": {},
   "outputs": [],
   "source": [
    "d1 = df.loudness\n",
    "d2 = data.loudness\n",
    "print('Громкость песен из плейслистов: ',d1.mean())\n",
    "print('Громкость песен из общей базы: ',d2.mean())\n",
    "ttest_ind(d1,d2)"
   ]
  },
  {
   "cell_type": "code",
   "execution_count": null,
   "metadata": {},
   "outputs": [],
   "source": [
    "d1 = df.speechiness\n",
    "d2 = data.speechiness\n",
    "print('Вокальность песен из плейслистов: ',d1.mean())\n",
    "print('Вокальность песен из общей базы: ',d2.mean())\n",
    "ttest_ind(d1,d2)"
   ]
  },
  {
   "cell_type": "code",
   "execution_count": null,
   "metadata": {},
   "outputs": [],
   "source": [
    "d1 = df.valence\n",
    "d2 = data.valence\n",
    "print('Валентность песен из плейслистов: ',d1.mean())\n",
    "print('Валентность песен из общей базы: ',d2.mean())\n",
    "ttest_ind(d1,d2)"
   ]
  },
  {
   "cell_type": "markdown",
   "metadata": {},
   "source": [
    "## Выводы\n",
    "\n",
    "Была создана база данных с песнями, добавленными в плейлисты, созданные для обучения. Эту базу данных можно использовать для построения рекомендаций или в качестве основания для модели генерации музыки (если получится заполучить музыкальные отрывки для обучения модели).\n",
    "\n",
    "Песни в плейлистах для учебы достаточно близки друг к другу по характеристикам (нет ярко выраженных кластеров). Было бы неплохо добавить переменную жанра, чтобы проверить, есть ли различные жанры в разных кластерах, которые были выделены. В целом по описанию плейлистов можно сделать вывод, что чаще всего для таких плейлистов выбираются классическая и инструментальная музыка.\n",
    "\n",
    "Для песен из плейлистов для обучения наблюдается такие различия с общей базой:\n",
    "* Акустичность выше\n",
    "* Танцевальность ниже\n",
    "* Длительность ниже\n",
    "* Энергичность намного ниже\n",
    "* Вероятность живого исполнения ниже\n",
    "* Громкость ниже\n",
    "* Вокальность ниже\n",
    "* Валентность ниже\n",
    "\n",
    "Эту информацию я планирую использовать в дипломе:\n",
    "\n",
    "1) Для описания характеристик наиболее часто используемых в плейлистах песен (полученные результаты частично подтверждают данные из литературы)\n",
    "\n",
    "2) Для подбора музыкальных отрывков для эксперимента, который планируется в рамках диплома (если будет достаточно времени)"
   ]
  },
  {
   "cell_type": "code",
   "execution_count": null,
   "metadata": {},
   "outputs": [],
   "source": [
    "data1=pd.read_csv('data_by_genres.csv')\n",
    "genres_energy=data1.sort_values(by=['energy']).head(50)"
   ]
  },
  {
   "cell_type": "code",
   "execution_count": null,
   "metadata": {},
   "outputs": [],
   "source": [
    "genres_energy['genres']"
   ]
  },
  {
   "cell_type": "code",
   "execution_count": null,
   "metadata": {},
   "outputs": [],
   "source": []
  }
 ],
 "metadata": {
  "kernelspec": {
   "display_name": "Python 3",
   "language": "python",
   "name": "python3"
  },
  "language_info": {
   "codemirror_mode": {
    "name": "ipython",
    "version": 3
   },
   "file_extension": ".py",
   "mimetype": "text/x-python",
   "name": "python",
   "nbconvert_exporter": "python",
   "pygments_lexer": "ipython3",
   "version": "3.7.3"
  }
 },
 "nbformat": 4,
 "nbformat_minor": 2
}
